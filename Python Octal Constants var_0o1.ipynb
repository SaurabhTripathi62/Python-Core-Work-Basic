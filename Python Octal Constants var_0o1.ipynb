{
 "cells": [
  {
   "cell_type": "code",
   "execution_count": 4,
   "metadata": {
    "scrolled": true
   },
   "outputs": [
    {
     "ename": "SyntaxError",
     "evalue": "leading zeros in decimal integer literals are not permitted; use an 0o prefix for octal integers (<ipython-input-4-de6e7bde1bb0>, line 1)",
     "output_type": "error",
     "traceback": [
      "\u001b[1;36m  File \u001b[1;32m\"<ipython-input-4-de6e7bde1bb0>\"\u001b[1;36m, line \u001b[1;32m1\u001b[0m\n\u001b[1;33m    a=01\u001b[0m\n\u001b[1;37m       ^\u001b[0m\n\u001b[1;31mSyntaxError\u001b[0m\u001b[1;31m:\u001b[0m leading zeros in decimal integer literals are not permitted; use an 0o prefix for octal integers\n"
     ]
    }
   ],
   "source": [
    "a=01"
   ]
  },
  {
   "cell_type": "code",
   "execution_count": 2,
   "metadata": {},
   "outputs": [],
   "source": [
    "a=0o1"
   ]
  },
  {
   "cell_type": "code",
   "execution_count": 3,
   "metadata": {},
   "outputs": [
    {
     "data": {
      "text/plain": [
       "1"
      ]
     },
     "execution_count": 3,
     "metadata": {},
     "output_type": "execute_result"
    }
   ],
   "source": [
    "a"
   ]
  },
  {
   "cell_type": "code",
   "execution_count": 5,
   "metadata": {},
   "outputs": [
    {
     "data": {
      "text/plain": [
       "int"
      ]
     },
     "execution_count": 5,
     "metadata": {},
     "output_type": "execute_result"
    }
   ],
   "source": [
    "type(a)"
   ]
  },
  {
   "cell_type": "code",
   "execution_count": 1,
   "metadata": {},
   "outputs": [
    {
     "ename": "SyntaxError",
     "evalue": "leading zeros in decimal integer literals are not permitted; use an 0o prefix for octal integers (<ipython-input-1-a364a4341bbf>, line 1)",
     "output_type": "error",
     "traceback": [
      "\u001b[1;36m  File \u001b[1;32m\"<ipython-input-1-a364a4341bbf>\"\u001b[1;36m, line \u001b[1;32m1\u001b[0m\n\u001b[1;33m    b=01\u001b[0m\n\u001b[1;37m       ^\u001b[0m\n\u001b[1;31mSyntaxError\u001b[0m\u001b[1;31m:\u001b[0m leading zeros in decimal integer literals are not permitted; use an 0o prefix for octal integers\n"
     ]
    }
   ],
   "source": [
    "b=01"
   ]
  },
  {
   "cell_type": "code",
   "execution_count": 2,
   "metadata": {},
   "outputs": [],
   "source": [
    "b=0b1"
   ]
  },
  {
   "cell_type": "code",
   "execution_count": 3,
   "metadata": {},
   "outputs": [
    {
     "data": {
      "text/plain": [
       "1"
      ]
     },
     "execution_count": 3,
     "metadata": {},
     "output_type": "execute_result"
    }
   ],
   "source": [
    "b"
   ]
  },
  {
   "cell_type": "markdown",
   "metadata": {},
   "source": [
    "####  Hexadecimal and Octal Constants \n",
    "##### Research Paper\n",
    "\n",
    "As an alternative to decimal constants, python allows you to enter numbers as either octal (base 8) or hexadecimal (base 16) constants. Octal constants are recognized by python because they start with a leading zero (0); in particular a number like 012 is interpreted as an octal number (with a decimal value of 10), not as a decimal number with a leading zero, and a number like 09 will generate a SyntaxError exception, since 9 is not a valid octal digit.\n",
    "Hexadecimal constants start with a leading zero, followed by the letter ``x'' (either upper or lower case). In addition to the decimal digits, these constants can contain the letters a, b, c, d, e, or f (again, either upper or lower case), representing the extra hexadecimal digits beyond 9.\n",
    "\n",
    "Note that these constants are numeric values, not string values, and thus should not be surrounded by quotes. Trying to use a string representation of an octal or hexadecimal constants raises a TypeError exception.\n",
    "\n",
    "Arithmetic performed on octal or hexadecimal numbers will be displayed in decimal form by the python interpreter. The functions hex and oct convert their arguments into a string representation of the corresponding hexadecimal or octal value, respectively.\n",
    "\n",
    "https://statistics.berkeley.edu/\n",
    "\n",
    "https://www.stat.berkeley.edu/~spector/extension/python/notes/node23.html#:~:text=Octal%20constants%20are%20recognized%20by,not%20a%20valid%20octal%20digit\n",
    "\n",
    "Integer literals starting with 0 are illegal in python, because of ambiguity. An integer literal starting with 0 has the following character which determines what number system it falls into: 0x for hex, 0o for octal, 0b for binary.\n",
    "\n",
    "As for the integers themselves, they're just numbers, and numbers will never begin with zero. If you have an integer represented as a string, and it happens to have a leading zero, then it'll get ignored when you turn it into an integer:"
   ]
  },
  {
   "cell_type": "markdown",
   "metadata": {},
   "source": [
    "Python Documentation dont cover it much.\n",
    "\n",
    "##### https://bugs.python.org/issue33305\n",
    "##### https://bugs.python.org/issue26490"
   ]
  },
  {
   "cell_type": "code",
   "execution_count": null,
   "metadata": {},
   "outputs": [],
   "source": []
  },
  {
   "cell_type": "code",
   "execution_count": null,
   "metadata": {},
   "outputs": [],
   "source": []
  },
  {
   "cell_type": "code",
   "execution_count": null,
   "metadata": {},
   "outputs": [],
   "source": []
  }
 ],
 "metadata": {
  "kernelspec": {
   "display_name": "Python 3",
   "language": "python",
   "name": "python3"
  },
  "language_info": {
   "codemirror_mode": {
    "name": "ipython",
    "version": 3
   },
   "file_extension": ".py",
   "mimetype": "text/x-python",
   "name": "python",
   "nbconvert_exporter": "python",
   "pygments_lexer": "ipython3",
   "version": "3.8.2"
  }
 },
 "nbformat": 4,
 "nbformat_minor": 4
}
